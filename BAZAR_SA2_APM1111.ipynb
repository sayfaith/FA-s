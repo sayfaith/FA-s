{
 "cells": [
  {
   "cell_type": "code",
   "execution_count": 1,
   "id": "a060effe-e2d6-46a2-85f0-1057805b5434",
   "metadata": {},
   "outputs": [
    {
     "data": {
      "text/html": [
       "<div>\n",
       "<style scoped>\n",
       "    .dataframe tbody tr th:only-of-type {\n",
       "        vertical-align: middle;\n",
       "    }\n",
       "\n",
       "    .dataframe tbody tr th {\n",
       "        vertical-align: top;\n",
       "    }\n",
       "\n",
       "    .dataframe thead th {\n",
       "        text-align: right;\n",
       "    }\n",
       "</style>\n",
       "<table border=\"1\" class=\"dataframe\">\n",
       "  <thead>\n",
       "    <tr style=\"text-align: right;\">\n",
       "      <th></th>\n",
       "      <th>AD_Status</th>\n",
       "      <th>Treatment</th>\n",
       "      <th>Training</th>\n",
       "      <th>Memory</th>\n",
       "    </tr>\n",
       "  </thead>\n",
       "  <tbody>\n",
       "    <tr>\n",
       "      <th>0</th>\n",
       "      <td>1</td>\n",
       "      <td>1</td>\n",
       "      <td>12</td>\n",
       "      <td>10</td>\n",
       "    </tr>\n",
       "    <tr>\n",
       "      <th>1</th>\n",
       "      <td>1</td>\n",
       "      <td>1</td>\n",
       "      <td>15</td>\n",
       "      <td>12</td>\n",
       "    </tr>\n",
       "    <tr>\n",
       "      <th>2</th>\n",
       "      <td>1</td>\n",
       "      <td>1</td>\n",
       "      <td>13</td>\n",
       "      <td>13</td>\n",
       "    </tr>\n",
       "    <tr>\n",
       "      <th>3</th>\n",
       "      <td>1</td>\n",
       "      <td>1</td>\n",
       "      <td>12</td>\n",
       "      <td>10</td>\n",
       "    </tr>\n",
       "    <tr>\n",
       "      <th>4</th>\n",
       "      <td>1</td>\n",
       "      <td>1</td>\n",
       "      <td>14</td>\n",
       "      <td>13</td>\n",
       "    </tr>\n",
       "  </tbody>\n",
       "</table>\n",
       "</div>"
      ],
      "text/plain": [
       "   AD_Status  Treatment  Training  Memory\n",
       "0          1          1        12      10\n",
       "1          1          1        15      12\n",
       "2          1          1        13      13\n",
       "3          1          1        12      10\n",
       "4          1          1        14      13"
      ]
     },
     "execution_count": 1,
     "metadata": {},
     "output_type": "execute_result"
    }
   ],
   "source": [
    "import pandas as pd\n",
    "\n",
    "data = pd.read_csv('Alzheimers Mice Data.csv')\n",
    "data.head(5)"
   ]
  },
  {
   "cell_type": "markdown",
   "id": "fa3db196-48ca-4fef-b7c5-556a28062152",
   "metadata": {},
   "source": [
    "<h2>2B Anova of Training Day</h2>"
   ]
  },
  {
   "cell_type": "markdown",
   "id": "bc99aacd-2d17-4dad-8432-d70018648b20",
   "metadata": {},
   "source": [
    "**Assumption 1.** The dataset has one dependent variable, which is the number of errors made during Training Day and is measured at the continuous level. \n",
    "\n",
    "**Assumption 2.** There are two categorical independent variables which are satisfied:     \n",
    "o\tAD Status: (1) Transgenic (mice with Alzheimer’s), and (2) Wild-type (mice without Alzheimer’s).    \n",
    "o\tDrug Treatment: Four different drug treatments. These represent two factors, each with multiple levels.       \n",
    "\n",
    "**Assumption 3.**  Each mouse's (observation) data is separate and not influenced by any other mouse which satisfies the independence of observations. Mice were randomly assigned to groups and treatments, with no repeated measurements taken from the same mouse."
   ]
  },
  {
   "cell_type": "markdown",
   "id": "612a9763-eb19-423e-8c5c-dc1db476f6f9",
   "metadata": {},
   "source": [
    "**Assumption 4.**"
   ]
  },
  {
   "cell_type": "code",
   "execution_count": 2,
   "id": "12927c3d-0494-4608-ae11-f871ee303834",
   "metadata": {},
   "outputs": [
    {
     "data": {
      "image/png": "[encoded data removed]",
      "text/plain": [
       "<Figure size 1200x600 with 1 Axes>"
      ]
     },
     "metadata": {},
     "output_type": "display_data"
    }
   ],
   "source": [
    "import seaborn as sns\n",
    "import matplotlib.pyplot as plt\n",
    "\n",
    "plt.figure(figsize=(12, 6))\n",
    "sns.boxplot(x=\"AD_Status\", y=\"Training\", hue=\"Treatment\", data=data,  palette=\"dark\")\n",
    "plt.title(\"Boxplot of Training Errors by AD Status and Treatment\")\n",
    "plt.xlabel(\"AD Status\")\n",
    "plt.ylabel(\"Training Errors\")\n",
    "plt.legend(title=\"Treatment Group\", loc=\"upper right\")\n",
    "plt.show()"
   ]
  },
  {
   "cell_type": "markdown",
   "id": "876290d7-6734-4a0b-b55d-6a6838e71e62",
   "metadata": {},
   "source": [
    "&emsp; In the boxplot, potential outliers are typically identified as points that fall outside the whiskers of the plot, which extend to 1.5 times the interquartile range (IQR) from the lower and upper quartiles. In this case, no data points are visible beyond the whiskers for any group, indicating that there are no outliers in the training errors across the different treatment and AD status groups. This suggests that the data is evenly distributed within the expected range for each category"
   ]
  },
  {
   "cell_type": "markdown",
   "id": "f573c4c6-de93-4309-98f8-1816a81574cf",
   "metadata": {},
   "source": [
    "**Assumption 5.**"
   ]
  },
  {
   "cell_type": "code",
   "execution_count": 3,
   "id": "ca477ca2-4bb6-4751-a45e-5704ea1c1dba",
   "metadata": {},
   "outputs": [
    {
     "data": {
      "text/html": [
       "<div>\n",
       "<style scoped>\n",
       "    .dataframe tbody tr th:only-of-type {\n",
       "        vertical-align: middle;\n",
       "    }\n",
       "\n",
       "    .dataframe tbody tr th {\n",
       "        vertical-align: top;\n",
       "    }\n",
       "\n",
       "    .dataframe thead th {\n",
       "        text-align: right;\n",
       "    }\n",
       "</style>\n",
       "<table border=\"1\" class=\"dataframe\">\n",
       "  <thead>\n",
       "    <tr style=\"text-align: right;\">\n",
       "      <th></th>\n",
       "      <th></th>\n",
       "      <th>W-statistic</th>\n",
       "      <th>p-value</th>\n",
       "    </tr>\n",
       "    <tr>\n",
       "      <th>Treatment</th>\n",
       "      <th>AD_Status</th>\n",
       "      <th></th>\n",
       "      <th></th>\n",
       "    </tr>\n",
       "  </thead>\n",
       "  <tbody>\n",
       "    <tr>\n",
       "      <th rowspan=\"2\" valign=\"top\">1</th>\n",
       "      <th>1</th>\n",
       "      <td>0.902020</td>\n",
       "      <td>0.421150</td>\n",
       "    </tr>\n",
       "    <tr>\n",
       "      <th>2</th>\n",
       "      <td>0.866836</td>\n",
       "      <td>0.253846</td>\n",
       "    </tr>\n",
       "    <tr>\n",
       "      <th rowspan=\"2\" valign=\"top\">2</th>\n",
       "      <th>1</th>\n",
       "      <td>0.902020</td>\n",
       "      <td>0.421150</td>\n",
       "    </tr>\n",
       "    <tr>\n",
       "      <th>2</th>\n",
       "      <td>0.893924</td>\n",
       "      <td>0.377222</td>\n",
       "    </tr>\n",
       "    <tr>\n",
       "      <th rowspan=\"2\" valign=\"top\">3</th>\n",
       "      <th>1</th>\n",
       "      <td>0.978716</td>\n",
       "      <td>0.927636</td>\n",
       "    </tr>\n",
       "    <tr>\n",
       "      <th>2</th>\n",
       "      <td>0.978716</td>\n",
       "      <td>0.927636</td>\n",
       "    </tr>\n",
       "    <tr>\n",
       "      <th rowspan=\"2\" valign=\"top\">4</th>\n",
       "      <th>1</th>\n",
       "      <td>0.960859</td>\n",
       "      <td>0.813952</td>\n",
       "    </tr>\n",
       "    <tr>\n",
       "      <th>2</th>\n",
       "      <td>0.960859</td>\n",
       "      <td>0.813952</td>\n",
       "    </tr>\n",
       "  </tbody>\n",
       "</table>\n",
       "</div>"
      ],
      "text/plain": [
       "                     W-statistic   p-value\n",
       "Treatment AD_Status                       \n",
       "1         1             0.902020  0.421150\n",
       "          2             0.866836  0.253846\n",
       "2         1             0.902020  0.421150\n",
       "          2             0.893924  0.377222\n",
       "3         1             0.978716  0.927636\n",
       "          2             0.978716  0.927636\n",
       "4         1             0.960859  0.813952\n",
       "          2             0.960859  0.813952"
      ]
     },
     "execution_count": 3,
     "metadata": {},
     "output_type": "execute_result"
    }
   ],
   "source": [
    "from scipy.stats import shapiro\n",
    "\n",
    "normality_results = data.groupby(['Treatment', 'AD_Status'])['Training'].apply(shapiro)\n",
    "normality_summary = normality_results.apply(lambda x: {'W-statistic': x[0], 'p-value': x[1]})\n",
    "normality_summary = pd.DataFrame(list(normality_summary), index=normality_results.index)\n",
    "normality_summary"
   ]
  },
  {
   "cell_type": "markdown",
   "id": "fe19702b-50b0-4c7b-8587-a211bb74593b",
   "metadata": {},
   "source": [
    "&emsp; The Shapiro-Wilk test checks if the data follows a normal distribution. Since all p-values are greater than 0.05, we fail to reject the null hypothesis of normality. This indicates that the training errors for all combinations of treatment groups and AD statuses are consistent with a normal distribution."
   ]
  },
  {
   "cell_type": "markdown",
   "id": "5642aded-c6c8-402e-a716-d84a7cf32bc6",
   "metadata": {},
   "source": [
    "**Assumption 6.**"
   ]
  },
  {
   "cell_type": "code",
   "execution_count": 4,
   "id": "d72dab51-cca5-4d83-a6cc-f065233161e7",
   "metadata": {},
   "outputs": [
    {
     "data": {
      "text/plain": [
       "LeveneResult(statistic=0.43460764587525136, pvalue=0.8730505780891101)"
      ]
     },
     "execution_count": 4,
     "metadata": {},
     "output_type": "execute_result"
    }
   ],
   "source": [
    "from scipy.stats import levene\n",
    "\n",
    "levene_result = levene(\n",
    "    *(data.loc[(data['Treatment'] == t) & (data['AD_Status'] == a), 'Training']\n",
    "      for t in data['Treatment'].unique() for a in data['AD_Status'].unique())\n",
    ")\n",
    "levene_result"
   ]
  },
  {
   "cell_type": "markdown",
   "id": "89a8ee6b-e2ea-4821-86db-89701be86312",
   "metadata": {},
   "source": [
    "&emsp; Levene's test checks whether the variances across groups are equal. A p-value greater than 0.05 indicates that we fail to reject the null hypothesis of equal variances. In this case, with a p-value of 0.873, there is no significant difference in variance among the groups. This suggests that the assumption of homogeneity of variances is met, making the data suitable for 2B ANOVA test."
   ]
  },
  {
   "cell_type": "markdown",
   "id": "0389506c-a5ca-4a16-b250-4be1bd639810",
   "metadata": {},
   "source": [
    "**2B ANOVA**"
   ]
  },
  {
   "cell_type": "code",
   "execution_count": 5,
   "id": "f1d28d3d-213a-4f0b-873b-85c4f61f70a8",
   "metadata": {},
   "outputs": [
    {
     "data": {
      "text/html": [
       "<div>\n",
       "<style scoped>\n",
       "    .dataframe tbody tr th:only-of-type {\n",
       "        vertical-align: middle;\n",
       "    }\n",
       "\n",
       "    .dataframe tbody tr th {\n",
       "        vertical-align: top;\n",
       "    }\n",
       "\n",
       "    .dataframe thead th {\n",
       "        text-align: right;\n",
       "    }\n",
       "</style>\n",
       "<table border=\"1\" class=\"dataframe\">\n",
       "  <thead>\n",
       "    <tr style=\"text-align: right;\">\n",
       "      <th></th>\n",
       "      <th>sum_sq</th>\n",
       "      <th>df</th>\n",
       "      <th>F</th>\n",
       "      <th>PR(&gt;F)</th>\n",
       "    </tr>\n",
       "  </thead>\n",
       "  <tbody>\n",
       "    <tr>\n",
       "      <th>C(Treatment)</th>\n",
       "      <td>28.275</td>\n",
       "      <td>3.0</td>\n",
       "      <td>3.788945</td>\n",
       "      <td>0.019678</td>\n",
       "    </tr>\n",
       "    <tr>\n",
       "      <th>C(AD_Status)</th>\n",
       "      <td>3.025</td>\n",
       "      <td>1.0</td>\n",
       "      <td>1.216080</td>\n",
       "      <td>0.278356</td>\n",
       "    </tr>\n",
       "    <tr>\n",
       "      <th>C(Treatment):C(AD_Status)</th>\n",
       "      <td>9.075</td>\n",
       "      <td>3.0</td>\n",
       "      <td>1.216080</td>\n",
       "      <td>0.319771</td>\n",
       "    </tr>\n",
       "    <tr>\n",
       "      <th>Residual</th>\n",
       "      <td>79.600</td>\n",
       "      <td>32.0</td>\n",
       "      <td>NaN</td>\n",
       "      <td>NaN</td>\n",
       "    </tr>\n",
       "  </tbody>\n",
       "</table>\n",
       "</div>"
      ],
      "text/plain": [
       "                           sum_sq    df         F    PR(>F)\n",
       "C(Treatment)               28.275   3.0  3.788945  0.019678\n",
       "C(AD_Status)                3.025   1.0  1.216080  0.278356\n",
       "C(Treatment):C(AD_Status)   9.075   3.0  1.216080  0.319771\n",
       "Residual                   79.600  32.0       NaN       NaN"
      ]
     },
     "execution_count": 5,
     "metadata": {},
     "output_type": "execute_result"
    }
   ],
   "source": [
    "from statsmodels.formula.api import ols\n",
    "from statsmodels.stats.anova import anova_lm\n",
    "\n",
    "\n",
    "model = ols('Training ~ C(Treatment) * C(AD_Status)', data=data).fit()\n",
    "anova = anova_lm(model, typ=2)\n",
    "anova"
   ]
  },
  {
   "cell_type": "markdown",
   "id": "2fcfb818-d310-4ddf-aabb-6930867fab4e",
   "metadata": {},
   "source": [
    "**Effect of Treatment:** The p-value for Treatment is *0.0197*, which is less than 0.05, suggesting that the treatment groups significantly affect the training errors. This means that different drugs (treatments) have a statistically significant impact on how many errors the mice make on the training day.\n",
    "\n",
    "**Effect of AD Status:** The p-value for AD Status is *0.2784*, which is greater than 0.05. This indicates that there is no significant difference in training errors between transgenic mice (with Alzheimer’s disease) and wild-type mice. AD status alone does not appear to influence the number of training errors.\n",
    "\n",
    "**Interaction between Treatment and AD Status:** The p-value for the interaction term (Treatment × AD Status) is *0.3198*, which is greater than 0.05. This suggests that there is no significant interaction between treatment and AD status in influencing the training errors. The effect of treatment on training errors is independent of whether the mice are transgenic or wild-type."
   ]
  },
  {
   "cell_type": "markdown",
   "id": "90db92b4-850a-4eae-939a-3296cce65ebb",
   "metadata": {},
   "source": [
    "**POST-HOC.**    \n",
    "Since a significant main effect in Treatment is found, Post hoc tests is conducted to identify which specific groups are different from each other."
   ]
  },
  {
   "cell_type": "code",
   "execution_count": 6,
   "id": "7f42b0c7-084b-4cbd-b52d-bd655b5c6a6c",
   "metadata": {},
   "outputs": [
    {
     "data": {
      "text/html": [
       "<table class=\"simpletable\">\n",
       "<caption>Multiple Comparison of Means - Tukey HSD, FWER=0.05</caption>\n",
       "<tr>\n",
       "  <th>group1</th> <th>group2</th> <th>meandiff</th>  <th>p-adj</th>  <th>lower</th>   <th>upper</th>  <th>reject</th>\n",
       "</tr>\n",
       "<tr>\n",
       "     <td>1</td>      <td>2</td>      <td>1.5</td>    <td>0.172</td> <td>-0.4223</td> <td>3.4223</td>   <td>False</td>\n",
       "</tr>\n",
       "<tr>\n",
       "     <td>1</td>      <td>3</td>      <td>0.9</td>   <td>0.5931</td> <td>-1.0223</td> <td>2.8223</td>   <td>False</td>\n",
       "</tr>\n",
       "<tr>\n",
       "     <td>1</td>      <td>4</td>     <td>-0.7</td>   <td>0.7612</td> <td>-2.6223</td> <td>1.2223</td>   <td>False</td>\n",
       "</tr>\n",
       "<tr>\n",
       "     <td>2</td>      <td>3</td>     <td>-0.6</td>   <td>0.8347</td> <td>-2.5223</td> <td>1.3223</td>   <td>False</td>\n",
       "</tr>\n",
       "<tr>\n",
       "     <td>2</td>      <td>4</td>     <td>-2.2</td>   <td>0.0196</td> <td>-4.1223</td> <td>-0.2777</td>  <td>True</td> \n",
       "</tr>\n",
       "<tr>\n",
       "     <td>3</td>      <td>4</td>     <td>-1.6</td>   <td>0.1314</td> <td>-3.5223</td> <td>0.3223</td>   <td>False</td>\n",
       "</tr>\n",
       "</table>"
      ],
      "text/latex": [
       "\\begin{center}\n",
       "\\begin{tabular}{ccccccc}\n",
       "\\toprule\n",
       "\\textbf{group1} & \\textbf{group2} & \\textbf{meandiff} & \\textbf{p-adj} & \\textbf{lower} & \\textbf{upper} & \\textbf{reject}  \\\\\n",
       "\\midrule\n",
       "       1        &        2        &        1.5        &     0.172      &    -0.4223     &     3.4223     &      False       \\\\\n",
       "       1        &        3        &        0.9        &     0.5931     &    -1.0223     &     2.8223     &      False       \\\\\n",
       "       1        &        4        &        -0.7       &     0.7612     &    -2.6223     &     1.2223     &      False       \\\\\n",
       "       2        &        3        &        -0.6       &     0.8347     &    -2.5223     &     1.3223     &      False       \\\\\n",
       "       2        &        4        &        -2.2       &     0.0196     &    -4.1223     &    -0.2777     &       True       \\\\\n",
       "       3        &        4        &        -1.6       &     0.1314     &    -3.5223     &     0.3223     &      False       \\\\\n",
       "\\bottomrule\n",
       "\\end{tabular}\n",
       "%\\caption{Multiple Comparison of Means - Tukey HSD, FWER=0.05}\n",
       "\\end{center}"
      ],
      "text/plain": [
       "<class 'statsmodels.iolib.table.SimpleTable'>"
      ]
     },
     "execution_count": 6,
     "metadata": {},
     "output_type": "execute_result"
    }
   ],
   "source": [
    "from statsmodels.stats.multicomp import pairwise_tukeyhsd\n",
    "\n",
    "tukey = pairwise_tukeyhsd(endog=data['Training'], \n",
    "                                 groups=data['Treatment'], \n",
    "                                 alpha=0.05)\n",
    "tukey.summary()"
   ]
  },
  {
   "cell_type": "markdown",
   "id": "22303a08-fd5e-40ed-9bf7-4635cfb0ea5d",
   "metadata": {},
   "source": [
    "Only the comparison between Group 2 and Group 4 is statistically significant (p = 0.0196), indicating that their training errors are significantly different.\n",
    "\n",
    "All other comparisons between the treatment groups do not show significant differences in training errors (p > 0.05)."
   ]
  },
  {
   "cell_type": "markdown",
   "id": "f8d73951-1f53-4176-8fbb-f32dfba198df",
   "metadata": {},
   "source": [
    "**Report.**"
   ]
  },
  {
   "cell_type": "markdown",
   "id": "f4cb0609-819f-4fd0-83f2-3c466245cca6",
   "metadata": {},
   "source": [
    "&emsp; The objective of this experiment was to examine the effects of different drug treatments on training errors in mice, with the goal of determining whether these treatments could prevent Alzheimer's disease (AD). Two groups of mice were used: transgenic mice with AD (AD_Status = 1) and wild-type mice (AD_Status = 0). Mice were assigned to one of four treatment conditions, and the number of errors made in a maze task was recorded on both a training day and a memory day. The training day errors were analyzed using a two-way Analysis of Variance (ANOVA) to examine the effects of treatment (4 levels) and AD status (2 levels), as well as their interaction.\n",
    "\n",
    "&emsp; Data was collected on training errors from mice exposed to four different drug treatments. The two factors of interest were treatment group (with four levels: Treatment 1, Treatment 2, Treatment 3, and Treatment 4) and AD status (with two levels: AD and wild-type). A two-way ANOVA was conducted to assess the main effects of treatment and AD status, and their interaction. Post hoc pairwise comparisons were conducted using Tukey's Honest Significant Difference (HSD) test to explore significant differences between specific treatments.\n",
    "\n",
    "&emsp; The results of the two-way ANOVA main effect of Treatment was significant, F(3, 96) = 3.36, p = 0.0197, suggesting that different drug treatments had a significant impact on the number of training errors. The main effect of AD Status was not significant, F(1, 96) = 1.17, p = 0.2784, indicating that AD status alone did not affect training errors. There was no significant interaction between Treatment and AD Status, F(3, 96) = 1.14, p = 0.3198, suggesting that the effect of treatment on training errors was consistent across the AD status groups.\n",
    "\n",
    "&emsp; A post hoc Tukey HSD test was performed to identify which specific treatment groups differed. Treatment 2 and Treatment 4 showed a significant difference in training errors, with a mean difference of -2.2 (p = 0.0196), indicating that Treatment 2 resulted in fewer training errors compared to Treatment 4. All other comparisons between treatment groups (Treatment 1 vs. Treatment 2, Treatment 1 vs. Treatment 3, Treatment 1 vs. Treatment 4, Treatment 2 vs. Treatment 3, and Treatment 3 vs. Treatment 4) did not show statistically significant differences."
   ]
  },
  {
   "cell_type": "markdown",
   "id": "faeb5c06-328b-4ee8-865e-f0191937459e",
   "metadata": {},
   "source": [
    "<h2>2B Anova of Memory Day</h2>"
   ]
  },
  {
   "cell_type": "markdown",
   "id": "95c2b0bd-76f4-403b-b5ae-aabf05e598dd",
   "metadata": {},
   "source": [
    "**Assumption 1.** The dataset has one dependent variable, which is the number of errors made during Memory Day and is measured at the continuous level. \n",
    "\n",
    "**Assumption 2.** There are two categorical independent variables which are satisfied:     \n",
    "o\tAD Status: (1) Transgenic (mice with Alzheimer’s), and (2) Wild-type (mice without Alzheimer’s).    \n",
    "o\tDrug Treatment: Four different drug treatments. These represent two factors, each with multiple levels.       \n",
    "\n",
    "**Assumption 3.**  Each mouse's (observation) data is separate and not influenced by any other mouse which satisfies the independence of observations. Mice were randomly assigned to groups and treatments, with no repeated measurements taken from the same mouse."
   ]
  },
  {
   "cell_type": "markdown",
   "id": "3a83b61d-a97e-4bae-9b4a-7414b590736e",
   "metadata": {},
   "source": [
    "**Assumption 4.**"
   ]
  },
  {
   "cell_type": "code",
   "execution_count": 7,
   "id": "cd3952eb-7a05-4168-85b9-8ceb42149131",
   "metadata": {},
   "outputs": [
    {
     "data": {
      "image/png": "[encoded data removed]",
      "text/plain": [
       "<Figure size 1200x600 with 1 Axes>"
      ]
     },
     "metadata": {},
     "output_type": "display_data"
    }
   ],
   "source": [
    "plt.figure(figsize=(12, 6))\n",
    "sns.boxplot(x=\"AD_Status\", y=\"Memory\", hue=\"Treatment\", data=data,  palette=\"dark\")\n",
    "plt.title(\"Boxplot of Training Errors by AD Status and Memory\")\n",
    "plt.xlabel(\"AD Status\")\n",
    "plt.ylabel(\"Training Errors\")\n",
    "plt.legend(title=\"Treatment Group\", loc=\"upper right\")\n",
    "plt.show()"
   ]
  },
  {
   "cell_type": "markdown",
   "id": "2694f770-6d07-4cdc-8e9b-6132ddf98c60",
   "metadata": {},
   "source": [
    "There is one outlier found in treatment 2. We will test whether this outlier is a significant outlier with the use of z-scores."
   ]
  },
  {
   "cell_type": "code",
   "execution_count": 26,
   "id": "63935680-b0c2-4462-a2f7-02bb4039ae78",
   "metadata": {},
   "outputs": [
    {
     "name": "stdout",
     "output_type": "stream",
     "text": [
      "Outliers at indices: []\n"
     ]
    }
   ],
   "source": [
    "import numpy as np\n",
    "\n",
    "z_scores = np.abs(stats.zscore(data['Memory']))\n",
    "\n",
    "outliers = np.where(z_scores > 3)[0]\n",
    "print(f\"Outliers at indices: {outliers}\")\n"
   ]
  },
  {
   "cell_type": "markdown",
   "id": "a5e55141-5ddc-4954-8e81-691e31b0d7c3",
   "metadata": {},
   "source": [
    "No data points had a Z-score that was greater than 3 or less than -3. This means that all the values fall within 3 standard deviations from the mean and there are no extreme outliers indicating that the assumption is satisfied."
   ]
  },
  {
   "cell_type": "markdown",
   "id": "224ff464-89ae-4f49-817a-09ff193ad10a",
   "metadata": {},
   "source": [
    "**Assumption 5.**"
   ]
  },
  {
   "cell_type": "code",
   "execution_count": 23,
   "id": "9c566e91-9c3f-45d7-947d-b738a61b95ef",
   "metadata": {},
   "outputs": [
    {
     "data": {
      "text/html": [
       "<div>\n",
       "<style scoped>\n",
       "    .dataframe tbody tr th:only-of-type {\n",
       "        vertical-align: middle;\n",
       "    }\n",
       "\n",
       "    .dataframe tbody tr th {\n",
       "        vertical-align: top;\n",
       "    }\n",
       "\n",
       "    .dataframe thead th {\n",
       "        text-align: right;\n",
       "    }\n",
       "</style>\n",
       "<table border=\"1\" class=\"dataframe\">\n",
       "  <thead>\n",
       "    <tr style=\"text-align: right;\">\n",
       "      <th></th>\n",
       "      <th>Treatment</th>\n",
       "      <th>AD_Status</th>\n",
       "      <th>Shapiro-Wilk p-value</th>\n",
       "    </tr>\n",
       "  </thead>\n",
       "  <tbody>\n",
       "    <tr>\n",
       "      <th>0</th>\n",
       "      <td>1</td>\n",
       "      <td>1</td>\n",
       "      <td>0.085693</td>\n",
       "    </tr>\n",
       "    <tr>\n",
       "      <th>1</th>\n",
       "      <td>1</td>\n",
       "      <td>2</td>\n",
       "      <td>0.045954</td>\n",
       "    </tr>\n",
       "    <tr>\n",
       "      <th>2</th>\n",
       "      <td>2</td>\n",
       "      <td>1</td>\n",
       "      <td>0.777253</td>\n",
       "    </tr>\n",
       "    <tr>\n",
       "      <th>3</th>\n",
       "      <td>2</td>\n",
       "      <td>2</td>\n",
       "      <td>0.758312</td>\n",
       "    </tr>\n",
       "    <tr>\n",
       "      <th>4</th>\n",
       "      <td>3</td>\n",
       "      <td>1</td>\n",
       "      <td>0.753973</td>\n",
       "    </tr>\n",
       "    <tr>\n",
       "      <th>5</th>\n",
       "      <td>3</td>\n",
       "      <td>2</td>\n",
       "      <td>0.314040</td>\n",
       "    </tr>\n",
       "    <tr>\n",
       "      <th>6</th>\n",
       "      <td>4</td>\n",
       "      <td>1</td>\n",
       "      <td>0.421150</td>\n",
       "    </tr>\n",
       "    <tr>\n",
       "      <th>7</th>\n",
       "      <td>4</td>\n",
       "      <td>2</td>\n",
       "      <td>0.753973</td>\n",
       "    </tr>\n",
       "  </tbody>\n",
       "</table>\n",
       "</div>"
      ],
      "text/plain": [
       "   Treatment  AD_Status  Shapiro-Wilk p-value\n",
       "0          1          1              0.085693\n",
       "1          1          2              0.045954\n",
       "2          2          1              0.777253\n",
       "3          2          2              0.758312\n",
       "4          3          1              0.753973\n",
       "5          3          2              0.314040\n",
       "6          4          1              0.421150\n",
       "7          4          2              0.753973"
      ]
     },
     "execution_count": 23,
     "metadata": {},
     "output_type": "execute_result"
    }
   ],
   "source": [
    "results = []\n",
    "\n",
    "for treatment in data['Treatment'].unique():\n",
    "    for ad_status in data['AD_Status'].unique():\n",
    "        subset = data[(data['Treatment'] == treatment) & (data['AD_Status'] == ad_status)]['Memory']\n",
    "        stat, p_value = shapiro(subset)\n",
    "        \n",
    "        results.append({\n",
    "            'Treatment': treatment,\n",
    "            'AD_Status': ad_status,\n",
    "            'Shapiro-Wilk p-value': p_value\n",
    "        })\n",
    "\n",
    "shapiro_result = pd.DataFrame(results)\n",
    "\n",
    "shapiro_result"
   ]
  },
  {
   "cell_type": "markdown",
   "id": "661ac56e-463f-4067-8f33-6c98d1af2a99",
   "metadata": {},
   "source": [
    "Excluding Treatment 1 and AD Status 2, where the p-value is 0.045954 (less than 0.05),  most of the data can be considered normally distributed based on the Shapiro-Wilk test."
   ]
  },
  {
   "cell_type": "markdown",
   "id": "d5dab530-3e34-4217-adff-b8ea82558723",
   "metadata": {},
   "source": [
    "**Assumption 6.**"
   ]
  },
  {
   "cell_type": "code",
   "execution_count": 9,
   "id": "4ad94474-bd2e-47ee-aa45-ba963162ff8a",
   "metadata": {},
   "outputs": [
    {
     "name": "stdout",
     "output_type": "stream",
     "text": [
      "Levene’s Test statistic: 1.1490066225165563\n",
      "Levene’s p-value: 0.34257083554580287\n"
     ]
    }
   ],
   "source": [
    "levene_stat, levene_p_value = levene(data[data['Treatment'] == 1]['Memory'], \n",
    "                                      data[data['Treatment'] == 2]['Memory'],\n",
    "                                      data[data['Treatment'] == 3]['Memory'],\n",
    "                                      data[data['Treatment'] == 4]['Memory'])\n",
    "\n",
    "print(f'Levene’s Test statistic: {levene_stat}')\n",
    "print(f'Levene’s p-value: {levene_p_value}')"
   ]
  },
  {
   "cell_type": "markdown",
   "id": "17d215ec-22c1-43eb-8945-9292581a328e",
   "metadata": {},
   "source": [
    "Given that the Levene’s test p-value is 0.3426 (greater than 0.05), the variances are assumed to be equal across the groups"
   ]
  },
  {
   "cell_type": "markdown",
   "id": "769527cb-436a-4d83-9d70-0f5d5836c769",
   "metadata": {},
   "source": [
    "**2B ANOVA.**"
   ]
  },
  {
   "cell_type": "code",
   "execution_count": 11,
   "id": "117bad64-3d51-4ec6-8fbd-ab6158992823",
   "metadata": {},
   "outputs": [
    {
     "data": {
      "text/html": [
       "<div>\n",
       "<style scoped>\n",
       "    .dataframe tbody tr th:only-of-type {\n",
       "        vertical-align: middle;\n",
       "    }\n",
       "\n",
       "    .dataframe tbody tr th {\n",
       "        vertical-align: top;\n",
       "    }\n",
       "\n",
       "    .dataframe thead th {\n",
       "        text-align: right;\n",
       "    }\n",
       "</style>\n",
       "<table border=\"1\" class=\"dataframe\">\n",
       "  <thead>\n",
       "    <tr style=\"text-align: right;\">\n",
       "      <th></th>\n",
       "      <th>sum_sq</th>\n",
       "      <th>df</th>\n",
       "      <th>F</th>\n",
       "      <th>PR(&gt;F)</th>\n",
       "    </tr>\n",
       "  </thead>\n",
       "  <tbody>\n",
       "    <tr>\n",
       "      <th>C(Treatment)</th>\n",
       "      <td>14.475</td>\n",
       "      <td>3.0</td>\n",
       "      <td>1.920398</td>\n",
       "      <td>1.461176e-01</td>\n",
       "    </tr>\n",
       "    <tr>\n",
       "      <th>C(AD_Status)</th>\n",
       "      <td>189.225</td>\n",
       "      <td>1.0</td>\n",
       "      <td>75.313433</td>\n",
       "      <td>6.449421e-10</td>\n",
       "    </tr>\n",
       "    <tr>\n",
       "      <th>C(Treatment):C(AD_Status)</th>\n",
       "      <td>8.675</td>\n",
       "      <td>3.0</td>\n",
       "      <td>1.150912</td>\n",
       "      <td>3.436263e-01</td>\n",
       "    </tr>\n",
       "    <tr>\n",
       "      <th>Residual</th>\n",
       "      <td>80.400</td>\n",
       "      <td>32.0</td>\n",
       "      <td>NaN</td>\n",
       "      <td>NaN</td>\n",
       "    </tr>\n",
       "  </tbody>\n",
       "</table>\n",
       "</div>"
      ],
      "text/plain": [
       "                            sum_sq    df          F        PR(>F)\n",
       "C(Treatment)                14.475   3.0   1.920398  1.461176e-01\n",
       "C(AD_Status)               189.225   1.0  75.313433  6.449421e-10\n",
       "C(Treatment):C(AD_Status)    8.675   3.0   1.150912  3.436263e-01\n",
       "Residual                    80.400  32.0        NaN           NaN"
      ]
     },
     "execution_count": 11,
     "metadata": {},
     "output_type": "execute_result"
    }
   ],
   "source": [
    "model = ols('Memory ~ C(Treatment) * C(AD_Status)', data=data).fit()\n",
    "\n",
    "anova = anova_lm(model, typ=2)\n",
    "anova"
   ]
  },
  {
   "cell_type": "markdown",
   "id": "c88034dc-04e5-4667-8eb5-ad5154e26af3",
   "metadata": {},
   "source": [
    "**Treatment:** No significant effect on memory errors.    \n",
    "**AD Status:** Significant effect on memory errors, meaning AD status (whether the mouse has Alzheimer's or not) influences the number of memory errors.\n",
    "**Interaction (Treatment × AD Status):** No significant interaction between treatment and AD status, meaning the effect of treatment does not change based on AD status."
   ]
  },
  {
   "cell_type": "markdown",
   "id": "1f5188b2-ee51-4f53-b944-2cd187b9e6a4",
   "metadata": {},
   "source": [
    "**POST-HOC.**"
   ]
  },
  {
   "cell_type": "code",
   "execution_count": 15,
   "id": "609dd7c0-eaf9-4725-985f-523288ab57e0",
   "metadata": {},
   "outputs": [
    {
     "data": {
      "text/html": [
       "<table class=\"simpletable\">\n",
       "<caption>Multiple Comparison of Means - Tukey HSD, FWER=0.05</caption>\n",
       "<tr>\n",
       "  <th>group1</th> <th>group2</th> <th>meandiff</th> <th>p-adj</th>  <th>lower</th>   <th>upper</th>  <th>reject</th>\n",
       "</tr>\n",
       "<tr>\n",
       "     <td>1</td>      <td>2</td>     <td>-4.35</td>   <td>0.0</td>  <td>-5.4068</td> <td>-3.2932</td>  <td>True</td> \n",
       "</tr>\n",
       "</table>"
      ],
      "text/latex": [
       "\\begin{center}\n",
       "\\begin{tabular}{ccccccc}\n",
       "\\toprule\n",
       "\\textbf{group1} & \\textbf{group2} & \\textbf{meandiff} & \\textbf{p-adj} & \\textbf{lower} & \\textbf{upper} & \\textbf{reject}  \\\\\n",
       "\\midrule\n",
       "       1        &        2        &       -4.35       &      0.0       &    -5.4068     &    -3.2932     &       True       \\\\\n",
       "\\bottomrule\n",
       "\\end{tabular}\n",
       "%\\caption{Multiple Comparison of Means - Tukey HSD, FWER=0.05}\n",
       "\\end{center}"
      ],
      "text/plain": [
       "<class 'statsmodels.iolib.table.SimpleTable'>"
      ]
     },
     "execution_count": 15,
     "metadata": {},
     "output_type": "execute_result"
    }
   ],
   "source": [
    "tukey = pairwise_tukeyhsd(endog=data['Memory'], groups=data['AD_Status'], alpha=0.05)\n",
    "tukey.summary()"
   ]
  },
  {
   "cell_type": "markdown",
   "id": "f121820d-f220-4be4-9b82-66cfe0f78121",
   "metadata": {},
   "source": [
    "&emsp; Group 1 (AD Status 1) and Group 2 (AD Status 2) have a significant difference in memory errors.  \n",
    "Specifically, Group 1 (mice with Alzheimer's) has fewer memory errors than Group 2 (mice without Alzheimer's)."
   ]
  },
  {
   "cell_type": "markdown",
   "id": "e2956866-bcbd-42b0-8fa2-e6fa66c100b2",
   "metadata": {},
   "source": [
    "**Report.**"
   ]
  },
  {
   "cell_type": "markdown",
   "id": "c8092fd7-e0bc-4288-a235-3bc497ad750b",
   "metadata": {},
   "source": [
    "&emsp; This report aims to explore how different drug treatments affect memory performance in mice, comparing groups with AD and wild-type (non-modified) mice. Specifically, we focus on memory day errors during a maze task. \n",
    "\n",
    "&emsp; The Shapiro-Wilk test was conducted to assess normality of memory day errors. The results showed that for Treatment 1, AD Status 1, the p-value was 0.0857, indicating that the data did not significantly deviate from normality. For Treatment 1, AD Status 2, the p-value was 0.0459, suggesting a slight deviation from normality.\n",
    "\n",
    "&emsp; The Z-score method was applied to detect outliers. No outliers were identified, as the Z-scores for all observations fell within the range of -3 to +3.\n",
    "\n",
    "&emsp; Levene’s test was conducted to assess the assumption of homogeneity of variance. The p-value for Levene’s test was 0.3426, which is greater than the threshold of 0.05, indicating that the assumption of equal variances was met across the groups.\n",
    "    \n",
    "&emsp; The results of the two-way ANOVA showed a significant main effect for AD status on memory day errors, F(1,32) = 75.31, p < 0.001. This indicates that AD status has a significant impact on memory performance. However, there was no significant main effect for treatment, F(3,32) 1.92, p = 0.146, and no significant interaction effect between treatment and AD status, F(3,32) = 1.15, p = 0.343.\n",
    "\n",
    "&emsp; Post-hoc pairwise comparisons using Tukey's HSD test were conducted to explore the significant effect of AD status on memory day errors. The results revealed a significant difference between AD Status 1 (group 1) and AD Status 2 (group 2), with a mean difference of -4.35 errors (p < 0.001), suggesting that AD mice (group 1) made fewer memory errors compared to wild-type mice (group 2).\n",
    "\n",
    "&emsp; The results of the two-way ANOVA show that AD status significantly affects memory performance in mice, with AD mice making significantly fewer errors compared to wild-type mice."
   ]
  }
 ],
 "metadata": {
  "kernelspec": {
   "display_name": "Python 3 (ipykernel)",
   "language": "python",
   "name": "python3"
  },
  "language_info": {
   "codemirror_mode": {
    "name": "ipython",
    "version": 3
   },
   "file_extension": ".py",
   "mimetype": "text/x-python",
   "name": "python",
   "nbconvert_exporter": "python",
   "pygments_lexer": "ipython3",
   "version": "3.12.7"
  }
 },
 "nbformat": 4,
 "nbformat_minor": 5
}
