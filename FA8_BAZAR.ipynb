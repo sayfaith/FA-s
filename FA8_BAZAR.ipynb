{
 "cells": [
  {
   "cell_type": "code",
   "execution_count": 1,
   "id": "70055d52",
   "metadata": {},
   "outputs": [],
   "source": [
    "import numpy as np\n",
    "import scipy as sp\n",
    "import pandas as pd\n",
    "import matplotlib as mpl\n",
    "import seaborn as sns"
   ]
  },
  {
   "cell_type": "code",
   "execution_count": 2,
   "id": "635aea97",
   "metadata": {},
   "outputs": [],
   "source": [
    "df = pd.read_csv(\"https://raw.githubusercontent.com/Apress/data-analysis-and-visualization-using-python/master/Ch07/Salaries.csv\")"
   ]
  },
  {
   "cell_type": "code",
   "execution_count": 10,
   "id": "3b843706",
   "metadata": {},
   "outputs": [
    {
     "name": "stdout",
     "output_type": "stream",
     "text": [
      "                         AssocProf      AsstProf           Prof\n",
      "count                    13.000000     19.000000      46.000000\n",
      "mean                  91786.230769  81362.789474  123624.804348\n",
      "std                   18571.183714   9381.245301   24850.287853\n",
      "min                   62884.000000  63100.000000   57800.000000\n",
      "25%                   74830.000000  74096.000000  105112.500000\n",
      "50%                  103613.000000  78500.000000  123321.500000\n",
      "75%                  104542.000000  91150.000000  143512.250000\n",
      "max                  119800.000000  97032.000000  186960.000000\n",
      "missing                   0.000000      0.000000       0.000000\n",
      "median               103613.000000  78500.000000  123321.500000\n",
      "std error of mean      5150.719625   2152.205275    3663.975052\n",
      "coefficient of var        0.202331      0.115301       0.201014\n",
      "skewness                 -0.151200      0.030504       0.070309\n",
      "std error of skew         0.679366      0.561951       0.361158\n",
      "kurtosis                 -1.614149     -1.011154       0.201339\n",
      "std error of kurtos       1.358732      1.123903       0.722315\n",
      "10th percentile       71512.000000  72500.000000   93675.000000\n",
      "20th percentile       73912.000000  73300.000000  103275.000000\n",
      "30th percentile       76432.000000  74832.800000  108473.000000\n",
      "40th percentile       80528.000000  77100.000000  116450.000000\n",
      "50th percentile      103613.000000  78500.000000  123321.500000\n",
      "60th percentile      103798.800000  84045.000000  127512.000000\n",
      "70th percentile      104213.200000  89800.000000  135889.000000\n",
      "80th percentile      106021.600000  91580.000000  148750.000000\n",
      "90th percentile      109121.600000  92000.000000  154750.000000\n"
     ]
    }
   ],
   "source": [
    "grouped = df.groupby(\"rank\")\n",
    "\n",
    "salary_stats = {}\n",
    "\n",
    "\n",
    "for name, group in grouped:\n",
    "    stats = group['salary'].describe().to_dict()\n",
    "\n",
    "    stats['missing'] = group['salary'].isnull().sum()               \n",
    "    stats['median'] = group['salary'].median()                      \n",
    "    stats['mean'] = group['salary'].mean()                          \n",
    "    stats['std error of mean'] = group['salary'].sem()  \n",
    "    stats['coefficient of var'] = group['salary'].std() / group['salary'].mean()\n",
    "    stats['skewness'] = group['salary'].skew() \n",
    "    stats['std error of skew'] = np.sqrt(6 / len(group['salary']))\n",
    "    stats['kurtosis'] = group['salary'].kurtosis()    \n",
    "    stats['std error of kurtos'] = np.sqrt(24 / len(group['salary']))\n",
    "    stats['10th percentile'] = group['salary'].quantile(0.10)        \n",
    "    stats['20th percentile'] = group['salary'].quantile(0.20)\n",
    "    stats['30th percentile'] = group['salary'].quantile(0.30)\n",
    "    stats['40th percentile'] = group['salary'].quantile(0.40)\n",
    "    stats['50th percentile'] = group['salary'].quantile(0.50)\n",
    "    stats['60th percentile'] = group['salary'].quantile(0.60)\n",
    "    stats['70th percentile'] = group['salary'].quantile(0.70)\n",
    "    stats['80th percentile'] = group['salary'].quantile(0.80)\n",
    "    stats['90th percentile'] = group['salary'].quantile(0.90)\n",
    "\n",
    "    salary_stats[name] = stats\n",
    "\n",
    "\n",
    "salary_stats_df = pd.DataFrame.from_dict(salary_stats, orient='index')\n",
    "\n",
    "salary_stats_df = salary_stats_df.transpose()\n",
    "print(salary_stats_df)\n",
    "\n"
   ]
  }
 ],
 "metadata": {
  "kernelspec": {
   "display_name": "Python 3 (ipykernel)",
   "language": "python",
   "name": "python3"
  },
  "language_info": {
   "codemirror_mode": {
    "name": "ipython",
    "version": 3
   },
   "file_extension": ".py",
   "mimetype": "text/x-python",
   "name": "python",
   "nbconvert_exporter": "python",
   "pygments_lexer": "ipython3",
   "version": "3.9.13"
  }
 },
 "nbformat": 4,
 "nbformat_minor": 5
}
